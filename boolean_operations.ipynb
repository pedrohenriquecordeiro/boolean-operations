{
  "nbformat": 4,
  "nbformat_minor": 0,
  "metadata": {
    "colab": {
      "name": "boolean_operations.ipynb",
      "version": "0.3.2",
      "provenance": [],
      "include_colab_link": true
    },
    "kernelspec": {
      "name": "python3",
      "display_name": "Python 3"
    }
  },
  "cells": [
    {
      "cell_type": "markdown",
      "metadata": {
        "id": "view-in-github",
        "colab_type": "text"
      },
      "source": [
        "<a href=\"https://colab.research.google.com/github/pedrohenriquecordeiro/boolean-operations/blob/master/boolean_operations.ipynb\" target=\"_parent\"><img src=\"https://colab.research.google.com/assets/colab-badge.svg\" alt=\"Open In Colab\"/></a>"
      ]
    },
    {
      "cell_type": "markdown",
      "metadata": {
        "id": "6cLn1QOclhAy",
        "colab_type": "text"
      },
      "source": [
        "## Decimal para binario\n",
        "#### retorna uma string"
      ]
    },
    {
      "cell_type": "code",
      "metadata": {
        "id": "USdftgSCc9Fb",
        "colab_type": "code",
        "colab": {}
      },
      "source": [
        "def dec_to_bin(number):\n",
        "  binary = bin(number)\n",
        "  return binary[2:]"
      ],
      "execution_count": 0,
      "outputs": []
    },
    {
      "cell_type": "code",
      "metadata": {
        "id": "iVdpgW1zmnfM",
        "colab_type": "code",
        "outputId": "4ba7f2ab-407a-4eb4-96de-2531a9202b46",
        "colab": {
          "base_uri": "https://localhost:8080/",
          "height": 34
        }
      },
      "source": [
        "dec_to_bin(224)"
      ],
      "execution_count": 6,
      "outputs": [
        {
          "output_type": "execute_result",
          "data": {
            "text/plain": [
              "'11100000'"
            ]
          },
          "metadata": {
            "tags": []
          },
          "execution_count": 6
        }
      ]
    },
    {
      "cell_type": "markdown",
      "metadata": {
        "id": "QtgGsayqoQyj",
        "colab_type": "text"
      },
      "source": [
        "## Binário para Decimal\n",
        "#### retorna decimal"
      ]
    },
    {
      "cell_type": "code",
      "metadata": {
        "id": "NaL7o0PjoZBT",
        "colab_type": "code",
        "colab": {}
      },
      "source": [
        "def bin_to_dec(number):\n",
        "  return int(number,2)"
      ],
      "execution_count": 0,
      "outputs": []
    },
    {
      "cell_type": "code",
      "metadata": {
        "id": "UM4q0l8ZolO1",
        "colab_type": "code",
        "outputId": "51597a65-572b-4902-8b70-b4b5bb56947b",
        "colab": {
          "base_uri": "https://localhost:8080/",
          "height": 34
        }
      },
      "source": [
        "bin_to_dec('11111100')"
      ],
      "execution_count": 0,
      "outputs": [
        {
          "output_type": "execute_result",
          "data": {
            "text/plain": [
              "252"
            ]
          },
          "metadata": {
            "tags": []
          },
          "execution_count": 4
        }
      ]
    },
    {
      "cell_type": "markdown",
      "metadata": {
        "id": "sDfz1OSIlpv5",
        "colab_type": "text"
      },
      "source": [
        "## AND entre numeros decimais\n",
        "#### retorna um inteiro"
      ]
    },
    {
      "cell_type": "code",
      "metadata": {
        "id": "pObbbA4gdt6n",
        "colab_type": "code",
        "colab": {}
      },
      "source": [
        "def and_dec(numbers):\n",
        "\n",
        "  if type(numbers) != list:\n",
        "  \n",
        "    print('[ERROR] : values must be passed through a list ')\n",
        "    return None\n",
        "  \n",
        "  else:\n",
        "    \n",
        "    tam = []\n",
        "    bs = []\n",
        "    for number in numbers:\n",
        "      constante_bin = dec_to_bin(number) \n",
        "      # salva os valores em binário\n",
        "      bs.append(constante_bin)\n",
        "      # salva o tamanho das constantes\n",
        "      tam.append(len(constante_bin))\n",
        "      \n",
        "    # seleciona o maior tamanho\n",
        "    max_tam = max(tam)\n",
        "    \n",
        "    \n",
        "    # conserta o tamanho constantes\n",
        "    for index, source in enumerate(bs):\n",
        "      tc = len(bs[index])\n",
        "      if max_tam != tc:\n",
        "        diff = max_tam - tc\n",
        "        for i in range(1, diff + 1):\n",
        "          bs[index] = '0' + bs[index] \n",
        "    \n",
        "    # variavel que armazena o resultado - recebe o primeiro binario\n",
        "    result = bs[0]\n",
        "    \n",
        "    for nb in bs:\n",
        "      for (b,tb) in zip(nb,result):\n",
        "        f b == '1' and tb == '1':\n",
        "          ###### ULTIMO PONTO\n",
        "          result = '1' + result\n",
        "        else:\n",
        "          result = '0' + result \n",
        "\n",
        "    result = result[::-1]\n",
        "    \n",
        "    return int(result,2)'''"
      ],
      "execution_count": 0,
      "outputs": []
    }
  ]
}
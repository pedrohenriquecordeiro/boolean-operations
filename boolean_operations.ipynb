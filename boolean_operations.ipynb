{
  "nbformat": 4,
  "nbformat_minor": 0,
  "metadata": {
    "colab": {
      "name": "boolean_operations.ipynb",
      "version": "0.3.2",
      "provenance": [],
      "include_colab_link": true
    },
    "kernelspec": {
      "name": "python3",
      "display_name": "Python 3"
    }
  },
  "cells": [
    {
      "cell_type": "markdown",
      "metadata": {
        "id": "view-in-github",
        "colab_type": "text"
      },
      "source": [
        "<a href=\"https://colab.research.google.com/github/pedrohenriquecordeiro/boolean-operations/blob/master/boolean_operations.ipynb\" target=\"_parent\"><img src=\"https://colab.research.google.com/assets/colab-badge.svg\" alt=\"Open In Colab\"/></a>"
      ]
    },
    {
      "cell_type": "markdown",
      "metadata": {
        "id": "6cLn1QOclhAy",
        "colab_type": "text"
      },
      "source": [
        "## Decimal para binario\n",
        "#### retorna uma string"
      ]
    },
    {
      "cell_type": "code",
      "metadata": {
        "id": "USdftgSCc9Fb",
        "colab_type": "code",
        "colab": {}
      },
      "source": [
        "def dec_to_bin(number):\n",
        "  n = int(number)\n",
        "  binary = bin(n)\n",
        "  return binary[2:]"
      ],
      "execution_count": 0,
      "outputs": []
    },
    {
      "cell_type": "code",
      "metadata": {
        "id": "iVdpgW1zmnfM",
        "colab_type": "code",
        "colab": {
          "base_uri": "https://localhost:8080/",
          "height": 34
        },
        "outputId": "3545eb3d-e2ec-47d1-a690-443496fce167"
      },
      "source": [
        "dec_to_bin(224)"
      ],
      "execution_count": 2,
      "outputs": [
        {
          "output_type": "execute_result",
          "data": {
            "text/plain": [
              "'11100000'"
            ]
          },
          "metadata": {
            "tags": []
          },
          "execution_count": 2
        }
      ]
    },
    {
      "cell_type": "markdown",
      "metadata": {
        "id": "QtgGsayqoQyj",
        "colab_type": "text"
      },
      "source": [
        "## Binário para Decimal\n",
        "#### retorna decimal"
      ]
    },
    {
      "cell_type": "code",
      "metadata": {
        "id": "NaL7o0PjoZBT",
        "colab_type": "code",
        "colab": {}
      },
      "source": [
        "def bin_to_dec(number):\n",
        "  return int(number,2)"
      ],
      "execution_count": 0,
      "outputs": []
    },
    {
      "cell_type": "code",
      "metadata": {
        "id": "UM4q0l8ZolO1",
        "colab_type": "code",
        "colab": {
          "base_uri": "https://localhost:8080/",
          "height": 34
        },
        "outputId": "51597a65-572b-4902-8b70-b4b5bb56947b"
      },
      "source": [
        "bin_to_dec('11111100')"
      ],
      "execution_count": 4,
      "outputs": [
        {
          "output_type": "execute_result",
          "data": {
            "text/plain": [
              "252"
            ]
          },
          "metadata": {
            "tags": []
          },
          "execution_count": 4
        }
      ]
    },
    {
      "cell_type": "markdown",
      "metadata": {
        "id": "sDfz1OSIlpv5",
        "colab_type": "text"
      },
      "source": [
        "## AND entre numeros decimais\n",
        "#### retorna um inteiro"
      ]
    },
    {
      "cell_type": "code",
      "metadata": {
        "id": "pObbbA4gdt6n",
        "colab_type": "code",
        "colab": {}
      },
      "source": [
        "def and_dec(select_input , return_select , numbers):\n",
        "\n",
        "  if type(numbers) != list:\n",
        "  \n",
        "    print('[ERROR] : values must be passed through a list ')\n",
        "    return None\n",
        "  \n",
        "  else:\n",
        "    \n",
        "    tam = []\n",
        "    bs = []\n",
        "    for number in numbers:\n",
        "      n = str(number)\n",
        "      bs.append(dec_to_bin(n))\n",
        "      tam.append(len(n))\n",
        "      \n",
        "    result = ''\n",
        "\n",
        "    max_tam = max(tam)\n",
        "    \n",
        "    \n",
        "    # conserta o tamanho dos numeros\n",
        "    for index, source in enumerate(bs):\n",
        "      tc = len(bs[index])\n",
        "      if max_tam != tc:\n",
        "        diff = max_tam - tc\n",
        "        for i in range(1, diff + 1):\n",
        "          bs[index] = '0' + bs[index] \n",
        "    \n",
        "    for n in bs:\n",
        "      print(n)\n",
        "    \n",
        "    '''if tam_num1 > tam_num2 :\n",
        "      diff = tam_num1 - tam_num2\n",
        "      for i in range(1,diff + 1):\n",
        "        n2 = '0' + n2\n",
        "\n",
        "    if tam_num2 > tam_num1 :\n",
        "      diff = tam_num2 - tam_num1\n",
        "      for i in range(1,diff + 1):\n",
        "        n1 = '0' + n1\n",
        "\n",
        "\n",
        "    for (c1,c2) in zip(n1, n2):\n",
        "        if c1 == '1' and c2 == '1':\n",
        "          result = '1' + result\n",
        "        else:\n",
        "          result = '0' + result  \n",
        "\n",
        "    result = result[::-1]\n",
        "\n",
        "    if return_select == 'dec':\n",
        "      return int(result,2)'''"
      ],
      "execution_count": 0,
      "outputs": []
    },
    {
      "cell_type": "code",
      "metadata": {
        "id": "QNlXaEKhcVnO",
        "colab_type": "code",
        "colab": {
          "base_uri": "https://localhost:8080/",
          "height": 85
        },
        "outputId": "d2ccb3b9-6e5c-4ccf-f6d4-e7801a8be2e6"
      },
      "source": [
        "and_dec(None,None,['12','120',10,37])"
      ],
      "execution_count": 12,
      "outputs": [
        {
          "output_type": "stream",
          "text": [
            "1100\n",
            "1111000\n",
            "1010\n",
            "100101\n"
          ],
          "name": "stdout"
        }
      ]
    },
    {
      "cell_type": "markdown",
      "metadata": {
        "id": "WU1ZskKfssoY",
        "colab_type": "text"
      },
      "source": [
        "## AND entre numeros em binário\n",
        "#### retorna uma string"
      ]
    },
    {
      "cell_type": "code",
      "metadata": {
        "id": "YJJ1P5TPtfYi",
        "colab_type": "code",
        "colab": {}
      },
      "source": [
        "a = ['a','a','a','a','a','a']\n",
        "\n",
        "\n",
        "for i, s in enumerate(a):\n",
        "    a[i] = a[i] + 'b' \n",
        "    \n",
        "    \n",
        "a\n",
        "\n",
        "  "
      ],
      "execution_count": 0,
      "outputs": []
    }
  ]
}